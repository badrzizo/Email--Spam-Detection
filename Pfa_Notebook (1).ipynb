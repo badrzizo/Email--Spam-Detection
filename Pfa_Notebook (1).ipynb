{
 "cells": [
  {
   "cell_type": "code",
   "execution_count": 152,
   "id": "fe9714b5-f773-4e29-b9d0-3bd322c3bc8b",
   "metadata": {},
   "outputs": [],
   "source": [
    "import pandas as pd\n",
    "from sklearn.model_selection import train_test_split\n",
    "from sklearn.feature_extraction.text import TfidfVectorizer\n",
    "from sklearn.linear_model import LogisticRegression\n",
    "from sklearn.naive_bayes import MultinomialNB\n",
    "from sklearn.svm import SVC\n",
    "from sklearn.metrics import classification_report, accuracy_score\n",
    "import mlflow\n",
    "import mlflow.sklearn\n",
    "from mlflow.models.signature import infer_signature\n",
    "import joblib\n",
    "import os"
   ]
  },
  {
   "cell_type": "code",
   "execution_count": 128,
   "id": "dae375f1-3784-43b6-9a3a-d1a2be98e8d8",
   "metadata": {},
   "outputs": [],
   "source": [
    "mlflow.set_tracking_uri(\"http://127.0.0.1:5000\")"
   ]
  },
  {
   "cell_type": "code",
   "execution_count": 130,
   "id": "a0927f1d-d6ef-44bb-9ac6-ce2b7e0ac4e3",
   "metadata": {},
   "outputs": [],
   "source": [
    "file_path = r\"C:\\Users\\hp\\Desktop\\pfa\\dataset\\spam.csv\"\n",
    "data = pd.read_csv(file_path)"
   ]
  },
  {
   "cell_type": "code",
   "execution_count": 132,
   "id": "aab28087-ee25-4869-ace1-9bdeb6b1eea0",
   "metadata": {},
   "outputs": [],
   "source": [
    "data['Category'] = data['Category'].map({'ham': 0, 'spam': 1})\n"
   ]
  },
  {
   "cell_type": "code",
   "execution_count": 134,
   "id": "8176cbd6-3105-4d8a-8814-6c500885155f",
   "metadata": {},
   "outputs": [],
   "source": [
    "X = data['Message']\n",
    "y = data['Category']\n"
   ]
  },
  {
   "cell_type": "code",
   "execution_count": 136,
   "id": "d6da5893-ecd2-49f9-9162-350a480476c8",
   "metadata": {},
   "outputs": [],
   "source": [
    "X_train, X_test, y_train, y_test = train_test_split(X, y, test_size=0.2, random_state=42)"
   ]
  },
  {
   "cell_type": "code",
   "execution_count": 138,
   "id": "cffc0669-a205-46fb-b475-49bb3d4a925f",
   "metadata": {},
   "outputs": [],
   "source": [
    "vectorizer = TfidfVectorizer(stop_words='english')\n",
    "X_train_tfidf = vectorizer.fit_transform(X_train)\n",
    "X_test_tfidf = vectorizer.transform(X_test)"
   ]
  },
  {
   "cell_type": "code",
   "execution_count": 140,
   "id": "bece9a06-847c-49cb-94d9-eb085dc14e20",
   "metadata": {},
   "outputs": [
    {
     "data": {
      "text/plain": [
       "['vectorizer.pkl']"
      ]
     },
     "execution_count": 140,
     "metadata": {},
     "output_type": "execute_result"
    }
   ],
   "source": [
    "joblib.dump(vectorizer, 'vectorizer.pkl')"
   ]
  },
  {
   "cell_type": "code",
   "execution_count": 142,
   "id": "396f8e9d-3f7c-4c10-985a-0d0bc205499f",
   "metadata": {},
   "outputs": [],
   "source": [
    "models = {\n",
    "    'Logistic Regression': LogisticRegression(),\n",
    "    'Naive Bayes': MultinomialNB(),\n",
    "    'Support Vector Machine': SVC()\n",
    "}"
   ]
  },
  {
   "cell_type": "code",
   "execution_count": 150,
   "id": "6e4f22be-43b4-4788-b992-a0f2b7221532",
   "metadata": {},
   "outputs": [
    {
     "data": {
      "application/vnd.jupyter.widget-view+json": {
       "model_id": "a1a26b7542fe4674ad4090fccae3d355",
       "version_major": 2,
       "version_minor": 0
      },
      "text/plain": [
       "Downloading artifacts:   0%|          | 0/7 [00:00<?, ?it/s]"
      ]
     },
     "metadata": {},
     "output_type": "display_data"
    },
    {
     "name": "stderr",
     "output_type": "stream",
     "text": [
      "Registered model 'Logistic Regression' already exists. Creating a new version of this model...\n",
      "2025/04/24 13:41:07 INFO mlflow.store.model_registry.abstract_store: Waiting up to 300 seconds for model version to finish creation. Model name: Logistic Regression, version 5\n",
      "Created version '5' of model 'Logistic Regression'.\n"
     ]
    },
    {
     "name": "stdout",
     "output_type": "stream",
     "text": [
      "🏃 View run glamorous-midge-278 at: http://127.0.0.1:5000/#/experiments/0/runs/b08968bde56a4e7b825037f6e54c4e5f\n",
      "🧪 View experiment at: http://127.0.0.1:5000/#/experiments/0\n"
     ]
    },
    {
     "data": {
      "application/vnd.jupyter.widget-view+json": {
       "model_id": "5789d54582154d328d80baaa7551682b",
       "version_major": 2,
       "version_minor": 0
      },
      "text/plain": [
       "Downloading artifacts:   0%|          | 0/7 [00:00<?, ?it/s]"
      ]
     },
     "metadata": {},
     "output_type": "display_data"
    },
    {
     "name": "stderr",
     "output_type": "stream",
     "text": [
      "Registered model 'Naive Bayes' already exists. Creating a new version of this model...\n",
      "2025/04/24 13:41:11 INFO mlflow.store.model_registry.abstract_store: Waiting up to 300 seconds for model version to finish creation. Model name: Naive Bayes, version 4\n",
      "Created version '4' of model 'Naive Bayes'.\n"
     ]
    },
    {
     "name": "stdout",
     "output_type": "stream",
     "text": [
      "🏃 View run rare-shrew-40 at: http://127.0.0.1:5000/#/experiments/0/runs/4c6838c3c82346149a934958fed99769\n",
      "🧪 View experiment at: http://127.0.0.1:5000/#/experiments/0\n"
     ]
    },
    {
     "data": {
      "application/vnd.jupyter.widget-view+json": {
       "model_id": "64c068056c8548178033dba03ed42e75",
       "version_major": 2,
       "version_minor": 0
      },
      "text/plain": [
       "Downloading artifacts:   0%|          | 0/7 [00:00<?, ?it/s]"
      ]
     },
     "metadata": {},
     "output_type": "display_data"
    },
    {
     "name": "stderr",
     "output_type": "stream",
     "text": [
      "Registered model 'Support Vector Machine' already exists. Creating a new version of this model...\n",
      "2025/04/24 13:41:17 INFO mlflow.store.model_registry.abstract_store: Waiting up to 300 seconds for model version to finish creation. Model name: Support Vector Machine, version 4\n"
     ]
    },
    {
     "name": "stdout",
     "output_type": "stream",
     "text": [
      "🏃 View run intrigued-jay-886 at: http://127.0.0.1:5000/#/experiments/0/runs/89f58c4541094d24ad56ca5bb93934d0\n",
      "🧪 View experiment at: http://127.0.0.1:5000/#/experiments/0\n"
     ]
    },
    {
     "name": "stderr",
     "output_type": "stream",
     "text": [
      "Created version '4' of model 'Support Vector Machine'.\n"
     ]
    }
   ],
   "source": [
    "results = {}\n",
    "\n",
    "# Iterate through each model in the models dictionary\n",
    "for model_name, model in models.items():\n",
    "    with mlflow.start_run():  # Start a new MLflow run for each model\n",
    "        # Log model hyperparameters\n",
    "        mlflow.log_param(\"model\", model_name)\n",
    "        \n",
    "        # Train the model\n",
    "        model.fit(X_train_tfidf, y_train)\n",
    "        \n",
    "        # Predict on the test set\n",
    "        y_pred = model.predict(X_test_tfidf)\n",
    "        \n",
    "        # Evaluate the model\n",
    "        metrics = classification_report(y_test, y_pred, output_dict=True)\n",
    "        \n",
    "        # Log the model and metrics to MLflow\n",
    "        mlflow.log_metric(\"accuracy\", metrics[\"accuracy\"])\n",
    "        mlflow.log_metric(\"precision_ham\", metrics[\"0\"][\"precision\"])\n",
    "        mlflow.log_metric(\"precision_spam\", metrics[\"1\"][\"precision\"])\n",
    "        mlflow.log_metric(\"recall_ham\", metrics[\"0\"][\"recall\"])\n",
    "        mlflow.log_metric(\"recall_spam\", metrics[\"1\"][\"recall\"])\n",
    "        mlflow.log_metric(\"f1_ham\", metrics[\"0\"][\"f1-score\"])\n",
    "        mlflow.log_metric(\"f1_spam\", metrics[\"1\"][\"f1-score\"])\n",
    "        \n",
    "        # Define input example (use a sample from your data)\n",
    "        input_example = vectorizer.transform([X_test.iloc[0]])  # Transform using the same vectorizer\n",
    "        \n",
    "        # Infer the signature of the model using a sample input/output\n",
    "        signature = infer_signature(X_train_tfidf, model.predict(X_train_tfidf))\n",
    "        \n",
    "        # Log the model itself with signature and input example\n",
    "        mlflow.sklearn.log_model(model, model_name, signature=signature, input_example=input_example)\n",
    "        \n",
    "        # Manually register the model (explicit model registration)\n",
    "        model_uri = f\"runs:/{mlflow.active_run().info.run_id}/{model_name}\"\n",
    "        mlflow.register_model(model_uri, model_name)  # Register the model with the model_name\n",
    "        \n",
    "        # Store the evaluation metrics and model name for later use\n",
    "        results[model_name] = {\n",
    "            \"accuracy\": metrics[\"accuracy\"],\n",
    "            \"precision_ham\": metrics[\"0\"][\"precision\"],\n",
    "            \"precision_spam\": metrics[\"1\"][\"precision\"],\n",
    "            \"recall_ham\": metrics[\"0\"][\"recall\"],\n",
    "            \"recall_spam\": metrics[\"1\"][\"recall\"],\n",
    "            \"f1_ham\": metrics[\"0\"][\"f1-score\"],\n",
    "            \"f1_spam\": metrics[\"1\"][\"f1-score\"]\n",
    "        }\n",
    "\n",
    "        joblib.dump(vectorizer, 'vectorizer.pkl')  # Save vectorizer one last time after training\n",
    "        "
   ]
  },
  {
   "cell_type": "code",
   "execution_count": 146,
   "id": "d10bcac2-7d11-4f6e-9ada-0b57d8508a8e",
   "metadata": {},
   "outputs": [
    {
     "name": "stdout",
     "output_type": "stream",
     "text": [
      "Model: Logistic Regression\n",
      "Accuracy: 96.77%\n"
     ]
    },
    {
     "ename": "KeyError",
     "evalue": "'0'",
     "output_type": "error",
     "traceback": [
      "\u001b[1;31m---------------------------------------------------------------------------\u001b[0m",
      "\u001b[1;31mKeyError\u001b[0m                                  Traceback (most recent call last)",
      "Cell \u001b[1;32mIn[146], line 4\u001b[0m\n\u001b[0;32m      2\u001b[0m \u001b[38;5;28mprint\u001b[39m(\u001b[38;5;124mf\u001b[39m\u001b[38;5;124m\"\u001b[39m\u001b[38;5;124mModel: \u001b[39m\u001b[38;5;132;01m{\u001b[39;00mmodel_name\u001b[38;5;132;01m}\u001b[39;00m\u001b[38;5;124m\"\u001b[39m)\n\u001b[0;32m      3\u001b[0m \u001b[38;5;28mprint\u001b[39m(\u001b[38;5;124mf\u001b[39m\u001b[38;5;124m\"\u001b[39m\u001b[38;5;124mAccuracy: \u001b[39m\u001b[38;5;132;01m{\u001b[39;00mmetrics[\u001b[38;5;124m'\u001b[39m\u001b[38;5;124maccuracy\u001b[39m\u001b[38;5;124m'\u001b[39m]\u001b[38;5;250m \u001b[39m\u001b[38;5;241m*\u001b[39m\u001b[38;5;250m \u001b[39m\u001b[38;5;241m100\u001b[39m\u001b[38;5;132;01m:\u001b[39;00m\u001b[38;5;124m.2f\u001b[39m\u001b[38;5;132;01m}\u001b[39;00m\u001b[38;5;124m%\u001b[39m\u001b[38;5;124m\"\u001b[39m)\n\u001b[1;32m----> 4\u001b[0m \u001b[38;5;28mprint\u001b[39m(\u001b[38;5;124mf\u001b[39m\u001b[38;5;124m\"\u001b[39m\u001b[38;5;124mPrecision (Ham): \u001b[39m\u001b[38;5;132;01m{\u001b[39;00mmetrics[\u001b[38;5;124m'\u001b[39m\u001b[38;5;124m0\u001b[39m\u001b[38;5;124m'\u001b[39m][\u001b[38;5;124m'\u001b[39m\u001b[38;5;124mprecision\u001b[39m\u001b[38;5;124m'\u001b[39m]\u001b[38;5;132;01m:\u001b[39;00m\u001b[38;5;124m.2f\u001b[39m\u001b[38;5;132;01m}\u001b[39;00m\u001b[38;5;124m\"\u001b[39m)\n\u001b[0;32m      5\u001b[0m \u001b[38;5;28mprint\u001b[39m(\u001b[38;5;124mf\u001b[39m\u001b[38;5;124m\"\u001b[39m\u001b[38;5;124mPrecision (Spam): \u001b[39m\u001b[38;5;132;01m{\u001b[39;00mmetrics[\u001b[38;5;124m'\u001b[39m\u001b[38;5;124m1\u001b[39m\u001b[38;5;124m'\u001b[39m][\u001b[38;5;124m'\u001b[39m\u001b[38;5;124mprecision\u001b[39m\u001b[38;5;124m'\u001b[39m]\u001b[38;5;132;01m:\u001b[39;00m\u001b[38;5;124m.2f\u001b[39m\u001b[38;5;132;01m}\u001b[39;00m\u001b[38;5;124m\"\u001b[39m)\n\u001b[0;32m      6\u001b[0m \u001b[38;5;28mprint\u001b[39m(\u001b[38;5;124mf\u001b[39m\u001b[38;5;124m\"\u001b[39m\u001b[38;5;124mRecall (Ham): \u001b[39m\u001b[38;5;132;01m{\u001b[39;00mmetrics[\u001b[38;5;124m'\u001b[39m\u001b[38;5;124m0\u001b[39m\u001b[38;5;124m'\u001b[39m][\u001b[38;5;124m'\u001b[39m\u001b[38;5;124mrecall\u001b[39m\u001b[38;5;124m'\u001b[39m]\u001b[38;5;132;01m:\u001b[39;00m\u001b[38;5;124m.2f\u001b[39m\u001b[38;5;132;01m}\u001b[39;00m\u001b[38;5;124m\"\u001b[39m)\n",
      "\u001b[1;31mKeyError\u001b[0m: '0'"
     ]
    }
   ],
   "source": [
    "for model_name, metrics in results.items():\n",
    "    print(f\"Model: {model_name}\")\n",
    "    print(f\"Accuracy: {metrics['accuracy'] * 100:.2f}%\")\n",
    "    print(f\"Precision (Ham): {metrics['0']['precision']:.2f}\")\n",
    "    print(f\"Precision (Spam): {metrics['1']['precision']:.2f}\")\n",
    "    print(f\"Recall (Ham): {metrics['0']['recall']:.2f}\")\n",
    "    print(f\"Recall (Spam): {metrics['1']['recall']:.2f}\")\n",
    "    print(f\"F1-Score (Ham): {metrics['0']['f1-score']:.2f}\")\n",
    "    print(f\"F1-Score (Spam): {metrics['1']['f1-score']:.2f}\")\n",
    "    print(\"=\"*50)"
   ]
  },
  {
   "cell_type": "code",
   "execution_count": null,
   "id": "45ef8e2d-921a-4eec-8948-9da01d3e0497",
   "metadata": {},
   "outputs": [],
   "source": []
  }
 ],
 "metadata": {
  "kernelspec": {
   "display_name": "Python [conda env:base] *",
   "language": "python",
   "name": "conda-base-py"
  },
  "language_info": {
   "codemirror_mode": {
    "name": "ipython",
    "version": 3
   },
   "file_extension": ".py",
   "mimetype": "text/x-python",
   "name": "python",
   "nbconvert_exporter": "python",
   "pygments_lexer": "ipython3",
   "version": "3.12.7"
  }
 },
 "nbformat": 4,
 "nbformat_minor": 5
}
